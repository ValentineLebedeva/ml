{
 "cells": [
  {
   "cell_type": "markdown",
   "metadata": {},
   "source": [
    "## Домашнее здание №3 / New Product Forecasting\n",
    "\n",
    "### Фамилия Имя / Группа\n",
    "\n",
    "----\n",
    "План выполнения домашнего задания:\n",
    "\n",
    "1. Подготовка данных\n",
    "2. Предсказание без категориальных признаков\n",
    "3. Предсказание с категориальными признаками\n",
    "4.  Другие модели и генерация дополнительных признаков\n",
    "5. Отправка результатов в контест на Kaggle"
   ]
  },
  {
   "cell_type": "code",
   "execution_count": 1,
   "metadata": {
    "collapsed": false
   },
   "outputs": [],
   "source": [
    "import pandas as pd\n",
    "import numpy as np\n",
    "from random import shuffle\n",
    "from sklearn import tree\n",
    "from copy import deepcopy\n",
    "from sklearn.ensemble import BaggingRegressor\n",
    "import matplotlib.pyplot as plt\n",
    "from sklearn.ensemble import RandomForestRegressor\n",
    "from sklearn.ensemble import ExtraTreesRegressor\n",
    "from sklearn.ensemble import GradientBoostingRegressor\n",
    "from sklearn import cross_validation\n",
    "from sklearn.dummy import DummyRegressor\n",
    "from scipy.optimize import minimize_scalar\n",
    "%matplotlib inline"
   ]
  },
  {
   "cell_type": "markdown",
   "metadata": {},
   "source": [
    "## Подготовка данных (1 балл)\n",
    " * Изучить признаки\n",
    " * Выделить категориальные признаки, которые можно использовать для обучения\n",
    " * Выделить датасет только с числовыми признаками\n",
    " * Выделить полезные числовые признаки"
   ]
  },
  {
   "cell_type": "code",
   "execution_count": 146,
   "metadata": {
    "collapsed": false
   },
   "outputs": [
    {
     "data": {
      "text/plain": [
       "(40000, 33)"
      ]
     },
     "execution_count": 146,
     "metadata": {},
     "output_type": "execute_result"
    }
   ],
   "source": [
    "# data = pd.read_csv('blogData_train.csv', header=None)\n",
    "data = pd.read_csv('./data/train.csv', sep=';', index_col='ID')\n",
    "data.shape"
   ]
  },
  {
   "cell_type": "code",
   "execution_count": 147,
   "metadata": {
    "collapsed": false
   },
   "outputs": [
    {
     "data": {
      "text/html": [
       "<div>\n",
       "<table border=\"1\" class=\"dataframe\">\n",
       "  <thead>\n",
       "    <tr style=\"text-align: right;\">\n",
       "      <th></th>\n",
       "      <th>DEMAND</th>\n",
       "      <th>LOCATION_ID</th>\n",
       "      <th>MODEL_BRAND</th>\n",
       "      <th>MODEL_COST_AVG</th>\n",
       "      <th>MODEL_COUNT_SALES_DAYS</th>\n",
       "      <th>MODEL_DIAG</th>\n",
       "      <th>MODEL_DIAG_TYPE</th>\n",
       "      <th>MODEL_HEIGHT</th>\n",
       "      <th>MODEL_ID</th>\n",
       "      <th>MODEL_MEAN_SALES</th>\n",
       "      <th>...</th>\n",
       "      <th>STORE_FORMAT</th>\n",
       "      <th>STORE_OPEN_DTTM</th>\n",
       "      <th>STORE_PRICE_TYPE</th>\n",
       "      <th>STORE_REGION</th>\n",
       "      <th>STORE_RES_ABC</th>\n",
       "      <th>STORE_RES_SPECTR</th>\n",
       "      <th>STORE_TYPE_A</th>\n",
       "      <th>STORE_TYPE_B</th>\n",
       "      <th>STORE_TYPE_C</th>\n",
       "      <th>STORE_TYPE_SPECTR</th>\n",
       "    </tr>\n",
       "    <tr>\n",
       "      <th>ID</th>\n",
       "      <th></th>\n",
       "      <th></th>\n",
       "      <th></th>\n",
       "      <th></th>\n",
       "      <th></th>\n",
       "      <th></th>\n",
       "      <th></th>\n",
       "      <th></th>\n",
       "      <th></th>\n",
       "      <th></th>\n",
       "      <th></th>\n",
       "      <th></th>\n",
       "      <th></th>\n",
       "      <th></th>\n",
       "      <th></th>\n",
       "      <th></th>\n",
       "      <th></th>\n",
       "      <th></th>\n",
       "      <th></th>\n",
       "      <th></th>\n",
       "      <th></th>\n",
       "    </tr>\n",
       "  </thead>\n",
       "  <tbody>\n",
       "    <tr>\n",
       "      <th>0</th>\n",
       "      <td>0.10536</td>\n",
       "      <td>1835543262</td>\n",
       "      <td>ark</td>\n",
       "      <td>5179.7500</td>\n",
       "      <td>NaN</td>\n",
       "      <td>5.5</td>\n",
       "      <td>big</td>\n",
       "      <td>720.0</td>\n",
       "      <td>1682</td>\n",
       "      <td>NaN</td>\n",
       "      <td>...</td>\n",
       "      <td>новый формат</td>\n",
       "      <td>19MAY15:00:00:00</td>\n",
       "      <td>розничная цена (северо-запад-санкт-петербург)</td>\n",
       "      <td>северо-запад</td>\n",
       "      <td>B</td>\n",
       "      <td>0.67</td>\n",
       "      <td>0.75</td>\n",
       "      <td>0.25</td>\n",
       "      <td>0.0</td>\n",
       "      <td>3.06</td>\n",
       "    </tr>\n",
       "    <tr>\n",
       "      <th>1</th>\n",
       "      <td>0.00010</td>\n",
       "      <td>1972241965</td>\n",
       "      <td>samsung</td>\n",
       "      <td>22015.3300</td>\n",
       "      <td>NaN</td>\n",
       "      <td>5.2</td>\n",
       "      <td>big</td>\n",
       "      <td>1920.0</td>\n",
       "      <td>34706</td>\n",
       "      <td>NaN</td>\n",
       "      <td>...</td>\n",
       "      <td>новый формат</td>\n",
       "      <td>20JAN16:00:00:00</td>\n",
       "      <td>розничная цена (северо-запад-днс1)</td>\n",
       "      <td>северо-запад</td>\n",
       "      <td>C</td>\n",
       "      <td>0.48</td>\n",
       "      <td>0.00</td>\n",
       "      <td>1.00</td>\n",
       "      <td>0.0</td>\n",
       "      <td>2.51</td>\n",
       "    </tr>\n",
       "    <tr>\n",
       "      <th>2</th>\n",
       "      <td>0.00010</td>\n",
       "      <td>2027986985</td>\n",
       "      <td>samsung</td>\n",
       "      <td>15592.5900</td>\n",
       "      <td>NaN</td>\n",
       "      <td>5.0</td>\n",
       "      <td>big</td>\n",
       "      <td>1280.0</td>\n",
       "      <td>2753</td>\n",
       "      <td>NaN</td>\n",
       "      <td>...</td>\n",
       "      <td>новый формат</td>\n",
       "      <td>27APR16:00:00:00</td>\n",
       "      <td>розничная цена (дальний восток-якутск)</td>\n",
       "      <td>дальний восток</td>\n",
       "      <td>A</td>\n",
       "      <td>0.64</td>\n",
       "      <td>1.00</td>\n",
       "      <td>0.00</td>\n",
       "      <td>0.0</td>\n",
       "      <td>2.72</td>\n",
       "    </tr>\n",
       "    <tr>\n",
       "      <th>3</th>\n",
       "      <td>0.00010</td>\n",
       "      <td>28432</td>\n",
       "      <td>alcatel</td>\n",
       "      <td>540.9533</td>\n",
       "      <td>29.0</td>\n",
       "      <td>1.8</td>\n",
       "      <td>small</td>\n",
       "      <td>128.0</td>\n",
       "      <td>1593</td>\n",
       "      <td>7.533</td>\n",
       "      <td>...</td>\n",
       "      <td>стандарт</td>\n",
       "      <td>21OCT09:00:00:00</td>\n",
       "      <td>розничная цена (северо-запад-боровичи)</td>\n",
       "      <td>северо-запад</td>\n",
       "      <td>B</td>\n",
       "      <td>0.65</td>\n",
       "      <td>0.50</td>\n",
       "      <td>0.25</td>\n",
       "      <td>0.0</td>\n",
       "      <td>2.04</td>\n",
       "    </tr>\n",
       "    <tr>\n",
       "      <th>4</th>\n",
       "      <td>0.00010</td>\n",
       "      <td>28547</td>\n",
       "      <td>мтс</td>\n",
       "      <td>444.7300</td>\n",
       "      <td>30.0</td>\n",
       "      <td>4.0</td>\n",
       "      <td>medium</td>\n",
       "      <td>480.0</td>\n",
       "      <td>80644</td>\n",
       "      <td>16.830</td>\n",
       "      <td>...</td>\n",
       "      <td>стандарт</td>\n",
       "      <td>20MAY09:00:00:00</td>\n",
       "      <td>розничная цена (северо-запад-санкт-петербург)</td>\n",
       "      <td>северо-запад</td>\n",
       "      <td>A</td>\n",
       "      <td>0.83</td>\n",
       "      <td>0.75</td>\n",
       "      <td>0.25</td>\n",
       "      <td>0.0</td>\n",
       "      <td>2.37</td>\n",
       "    </tr>\n",
       "  </tbody>\n",
       "</table>\n",
       "<p>5 rows × 33 columns</p>\n",
       "</div>"
      ],
      "text/plain": [
       "     DEMAND  LOCATION_ID MODEL_BRAND  MODEL_COST_AVG  MODEL_COUNT_SALES_DAYS  \\\n",
       "ID                                                                             \n",
       "0   0.10536   1835543262         ark       5179.7500                     NaN   \n",
       "1   0.00010   1972241965     samsung      22015.3300                     NaN   \n",
       "2   0.00010   2027986985     samsung      15592.5900                     NaN   \n",
       "3   0.00010        28432     alcatel        540.9533                    29.0   \n",
       "4   0.00010        28547         мтс        444.7300                    30.0   \n",
       "\n",
       "    MODEL_DIAG MODEL_DIAG_TYPE  MODEL_HEIGHT  MODEL_ID  MODEL_MEAN_SALES  \\\n",
       "ID                                                                         \n",
       "0          5.5             big         720.0      1682               NaN   \n",
       "1          5.2             big        1920.0     34706               NaN   \n",
       "2          5.0             big        1280.0      2753               NaN   \n",
       "3          1.8           small         128.0      1593             7.533   \n",
       "4          4.0          medium         480.0     80644            16.830   \n",
       "\n",
       "          ...         STORE_FORMAT   STORE_OPEN_DTTM  \\\n",
       "ID        ...                                          \n",
       "0         ...         новый формат  19MAY15:00:00:00   \n",
       "1         ...         новый формат  20JAN16:00:00:00   \n",
       "2         ...         новый формат  27APR16:00:00:00   \n",
       "3         ...             стандарт  21OCT09:00:00:00   \n",
       "4         ...             стандарт  20MAY09:00:00:00   \n",
       "\n",
       "                                 STORE_PRICE_TYPE    STORE_REGION  \\\n",
       "ID                                                                  \n",
       "0   розничная цена (северо-запад-санкт-петербург)    северо-запад   \n",
       "1              розничная цена (северо-запад-днс1)    северо-запад   \n",
       "2          розничная цена (дальний восток-якутск)  дальний восток   \n",
       "3          розничная цена (северо-запад-боровичи)    северо-запад   \n",
       "4   розничная цена (северо-запад-санкт-петербург)    северо-запад   \n",
       "\n",
       "    STORE_RES_ABC  STORE_RES_SPECTR STORE_TYPE_A  STORE_TYPE_B STORE_TYPE_C  \\\n",
       "ID                                                                            \n",
       "0               B              0.67         0.75          0.25          0.0   \n",
       "1               C              0.48         0.00          1.00          0.0   \n",
       "2               A              0.64         1.00          0.00          0.0   \n",
       "3               B              0.65         0.50          0.25          0.0   \n",
       "4               A              0.83         0.75          0.25          0.0   \n",
       "\n",
       "   STORE_TYPE_SPECTR  \n",
       "ID                    \n",
       "0               3.06  \n",
       "1               2.51  \n",
       "2               2.72  \n",
       "3               2.04  \n",
       "4               2.37  \n",
       "\n",
       "[5 rows x 33 columns]"
      ]
     },
     "execution_count": 147,
     "metadata": {},
     "output_type": "execute_result"
    }
   ],
   "source": [
    "# Посмотрим на данные\n",
    "data.head()"
   ]
  },
  {
   "cell_type": "markdown",
   "metadata": {},
   "source": [
    "### Категориальные признаки\n",
    " * Какие категориальные признаки следует использовать в первую очередь? \n",
    " * Есть ли категориальные признаки, которые в принципе не понятно, как использовать?"
   ]
  },
  {
   "cell_type": "code",
   "execution_count": 148,
   "metadata": {
    "collapsed": false
   },
   "outputs": [
    {
     "data": {
      "text/plain": [
       "Index([u'MODEL_BRAND', u'MODEL_DIAG_TYPE', u'MODEL_NAME', u'MODEL_OS',\n",
       "       u'MODEL_RES_TYPE', u'MODEL_TYPE', u'STORE_BRAND_ABC',\n",
       "       u'STORE_BUILDING_TYPE', u'STORE_CITY', u'STORE_CLUSTER',\n",
       "       u'STORE_DIAG_ABC', u'STORE_FORMAT', u'STORE_OPEN_DTTM',\n",
       "       u'STORE_PRICE_TYPE', u'STORE_REGION', u'STORE_RES_ABC'],\n",
       "      dtype='object')"
      ]
     },
     "execution_count": 148,
     "metadata": {},
     "output_type": "execute_result"
    }
   ],
   "source": [
    "# Определяем категориальные признаки\n",
    "# По понятным причинам 'LOCATION_ID', 'MODEL_ID' считаются числовыми признаками - их добавляем руками отдельно\n",
    "Categorical_columns = data.columns[([isinstance(z, str) for z in data.ix[0]])]\n",
    "Categorical_columns"
   ]
  },
  {
   "cell_type": "code",
   "execution_count": 149,
   "metadata": {
    "collapsed": false
   },
   "outputs": [
    {
     "name": "stdout",
     "output_type": "stream",
     "text": [
      "Количество уникальных категориальных значений: [845]\n",
      "Удаляем признаки с номерами: \n",
      "                     NoUniqueValues\n",
      "MODEL_NAME                      447\n",
      "STORE_OPEN_DTTM                 246\n",
      "STORE_CITY                       36\n",
      "MODEL_BRAND                      33\n",
      "STORE_CLUSTER                    23\n",
      "STORE_PRICE_TYPE                 20\n",
      "STORE_FORMAT                     10\n",
      "MODEL_OS                          5\n",
      "STORE_REGION                      5\n",
      "MODEL_DIAG_TYPE                   3\n",
      "MODEL_RES_TYPE                    3\n",
      "STORE_BRAND_ABC                   3\n",
      "STORE_BUILDING_TYPE               3\n",
      "STORE_DIAG_ABC                    3\n",
      "STORE_RES_ABC                     3\n",
      "MODEL_TYPE                        2\n"
     ]
    }
   ],
   "source": [
    "# Количество уникальных значений в категориальных признаках\n",
    "dist_val = pd.DataFrame({'NoUniqueValues': [data[z].nunique() for z in Categorical_columns]}, index = Categorical_columns)\n",
    "\n",
    "print('Количество уникальных категориальных значений: '+ str(dist_val.sum().values))\n",
    "print('Удаляем признаки с номерами: \\n'+ str(dist_val.ix[dist_val['NoUniqueValues']>0].sort_values(by='NoUniqueValues', ascending=False)))"
   ]
  },
  {
   "cell_type": "code",
   "execution_count": null,
   "metadata": {
    "collapsed": true
   },
   "outputs": [],
   "source": [
    "# Запоминаем те категориальные признаки, с которыми не будем далее работать (используется далее)\n",
    "Categorical_columns_use = Cathegorical_columns[номера полезных категориальных фич]"
   ]
  },
  {
   "cell_type": "markdown",
   "metadata": {},
   "source": [
    "### Числовые признаки\n",
    "* Какие числовые признаки следует использовать в первую очередь? \n",
    "* Есть ли числовые признаки, которые в принципе не понятно, как использовать?\n",
    "* Как заполнять NaN?"
   ]
  },
  {
   "cell_type": "code",
   "execution_count": 283,
   "metadata": {
    "collapsed": false
   },
   "outputs": [
    {
     "data": {
      "text/plain": [
       "Index([u'DEMAND', u'MODEL_COST_AVG', u'MODEL_COUNT_SALES_DAYS', u'MODEL_DIAG',\n",
       "       u'MODEL_HEIGHT', u'MODEL_MEAN_SALES', u'MODEL_WIDTH',\n",
       "       u'STORE_ASSORTMENT', u'STORE_BRAND_SPECTR', u'STORE_DIAG_SPECTR',\n",
       "       u'STORE_RES_SPECTR', u'STORE_TYPE_A', u'STORE_TYPE_B', u'STORE_TYPE_C',\n",
       "       u'STORE_TYPE_SPECTR'],\n",
       "      dtype='object')"
      ]
     },
     "execution_count": 283,
     "metadata": {},
     "output_type": "execute_result"
    }
   ],
   "source": [
    "# Выделяем числовой датасет: В данном случае удаляем все + MODEL_ID и LOCATION_ID\n",
    "num_data = data.drop(Cathegorical_columns | data.columns[[1,8]], axis = 1)\n",
    "num_data.columns"
   ]
  },
  {
   "cell_type": "code",
   "execution_count": 151,
   "metadata": {
    "collapsed": false
   },
   "outputs": [
    {
     "name": "stdout",
     "output_type": "stream",
     "text": [
      "Количество NaN:\n"
     ]
    },
    {
     "data": {
      "text/plain": [
       "DEMAND                        0\n",
       "MODEL_COST_AVG                0\n",
       "MODEL_COUNT_SALES_DAYS    18917\n",
       "MODEL_DIAG                  212\n",
       "MODEL_HEIGHT                212\n",
       "MODEL_MEAN_SALES          18917\n",
       "MODEL_WIDTH                 212\n",
       "STORE_ASSORTMENT            235\n",
       "STORE_BRAND_SPECTR          235\n",
       "STORE_DIAG_SPECTR           442\n",
       "STORE_RES_SPECTR            446\n",
       "STORE_TYPE_A                  0\n",
       "STORE_TYPE_B                  0\n",
       "STORE_TYPE_C                  0\n",
       "STORE_TYPE_SPECTR             0\n",
       "dtype: int64"
      ]
     },
     "execution_count": 151,
     "metadata": {},
     "output_type": "execute_result"
    }
   ],
   "source": [
    "# Количество NaN в числовых признаках\n",
    "print('Количество NaN:')\n",
    "nan_val = num_data.isnull().sum().T\n",
    "nan_val\n",
    "# print('Удаляем признаки с номерами: \\n'+ str(nan_val.sort_values(by='NoUniqueValues', ascending=False)))"
   ]
  },
  {
   "cell_type": "markdown",
   "metadata": {},
   "source": [
    "##### Преобразовываем числовые признаки (удаляем/добавляем/заменяем nan)"
   ]
  },
  {
   "cell_type": "code",
   "execution_count": null,
   "metadata": {
    "collapsed": true
   },
   "outputs": [],
   "source": [
    "# Здесь добавьте код по преобразованию числовых признаков\n",
    "\n",
    "# пример\n",
    "num_data[???][num_data[???]<числовой порог]=значение"
   ]
  },
  {
   "cell_type": "code",
   "execution_count": 152,
   "metadata": {
    "collapsed": false
   },
   "outputs": [
    {
     "data": {
      "text/plain": [
       "Index([u'DEMAND', u'MODEL_COST_AVG', u'MODEL_DIAG', u'MODEL_MEAN_SALES',\n",
       "       u'STORE_BRAND_SPECTR', u'STORE_DIAG_SPECTR', u'STORE_RES_SPECTR',\n",
       "       u'STORE_TYPE_A', u'STORE_TYPE_B', u'STORE_TYPE_C',\n",
       "       u'STORE_TYPE_SPECTR'],\n",
       "      dtype='object')"
      ]
     },
     "execution_count": 152,
     "metadata": {},
     "output_type": "execute_result"
    }
   ],
   "source": [
    "# Здесь добавьте код по заполнению NaN\n",
    "num_data = num_data[список фич].fillna(значение)\n"
   ]
  },
  {
   "cell_type": "code",
   "execution_count": null,
   "metadata": {
    "collapsed": true
   },
   "outputs": [],
   "source": [
    "# Здесь добавьте код по удалению числовых признаков\n",
    "num_data.drop([список фич], axis = 1, inplace=True)\n",
    "num_data.columns"
   ]
  },
  {
   "cell_type": "markdown",
   "metadata": {},
   "source": [
    "## Предсказание без категориальных признаков (1 балл)\n",
    "### Вспомогательные функции"
   ]
  },
  {
   "cell_type": "code",
   "execution_count": 153,
   "metadata": {
    "collapsed": true
   },
   "outputs": [],
   "source": [
    "def smape_loss_func(x, y):\n",
    "    SymAPE = [ 2*np.abs(x-y)/(np.abs(x)+np.abs(y))] \n",
    "    return np.mean(SymAPE)\n",
    "\n",
    "def get_numerated_data(df, categorical_columns):\n",
    "    simple_df = deepcopy(df)\n",
    "    for column in categorical_columns:\n",
    "        simple_df[column] = pd.Categorical.from_array(simple_df[column]).labels\n",
    "    \n",
    "    return simple_df\n",
    "\n",
    "def get_binarized_data(df, categorical_columns):\n",
    "    binary_df = deepcopy(df)\n",
    "    for column in categorical_columns:\n",
    "        binary_df = pd.concat([binary_df, pd.get_dummies(binary_df[column], prefix=column, prefix_sep=': ')], axis=1)\n",
    "        del binary_df[column]\n",
    "    \n",
    "    return binary_df\n",
    "\n",
    "def split_to_numpy(df, y_column_name):\n",
    "    #print df\n",
    "    #print y_column_name\n",
    "    data_x = df.drop(y_column_name, axis=1).values.astype(np.float32)\n",
    "    data_y = df[y_column_name].values.astype(np.float32)\n",
    "    column_names = df.drop(y_column_name, axis=1).columns\n",
    "    \n",
    "    return data_x, data_y, column_names\n",
    "\n",
    "def split_train_test(df, test_size=0.5, random_state=42, y_column_name='y'):\n",
    "    X = np.asarray(df.drop(y_column_name, axis=1))\n",
    "    y = np.asarray(df[y_column_name]).ravel()\n",
    "    trainX, testX, trainY, testY = cross_validation.train_test_split(X, y, test_size=test_size, random_state=42)\n",
    "    return trainX, testX, trainY, testY"
   ]
  },
  {
   "cell_type": "markdown",
   "metadata": {},
   "source": [
    "### Необходимые функции"
   ]
  },
  {
   "cell_type": "code",
   "execution_count": 274,
   "metadata": {
    "collapsed": false
   },
   "outputs": [],
   "source": [
    "def show_plot(n_est, res, title=\"\", ylabel=\"acc\"):\n",
    "    fig, ax = plt.subplots()\n",
    "    ax.plot(n_est, [res[x][1] for x in n_est], 'ro')\n",
    "#     ax.set_xlim((np.min(n_est) - 10, np.max(n_est) + 10))\n",
    "#     plt.xlabel(\"n_estimators\")\n",
    "#     plt.ylabel(ylabel)\n",
    "#     plt.title(\"Test result\")\n",
    "#     plt.show()\n",
    "    \n",
    "#     fig, ax = plt.subplots()\n",
    "    ax.plot(n_est, [res[x][0] for x in n_est], 'bo')\n",
    "    ax.set_xlim((np.min(n_est) - 10, np.max(n_est) + 10))\n",
    "    plt.xlabel(\"n_estimators\")\n",
    "    plt.ylabel(\"acc\")\n",
    "    plt.title(title)\n",
    "    plt.show()\n",
    "\n",
    "def get_results_dummy_reg(acc=smape_loss_func, verbose=True, strg ='mean', const=None):\n",
    "    results = dict()\n",
    "    reg = DummyRegressor(strategy=strg, constant=const)\n",
    "    reg.fit(trainX, trainY)\n",
    "    predict = reg.predict(testX)\n",
    "    results[1] = (acc(trainY, reg.predict(trainX)), acc(testY, predict))\n",
    "    if verbose:\n",
    "        print(\"Accuracy: \" + str(results[1][1]))\n",
    "    return results\n",
    "\n",
    "def get_results_baggind_rsm(n_est, max_samples, max_features, acc=smape_loss_func, verbose=True):\n",
    "    results = dict()\n",
    "    for i in n_est:\n",
    "        reg = BaggingRegressor(n_estimators=i,\n",
    "                          max_samples=max_samples, max_features=max_features, random_state=1234, n_jobs=-1, verbose=0)\n",
    "        reg.fit(trainX, trainY)\n",
    "#         results[i] = (mse(reg.predict(trainX), trainY), mse(reg.predict(testX), testY))\n",
    "        predict = reg.predict(testX)\n",
    "        results[i] = (acc(trainY, reg.predict(trainX)), acc(testY, predict))\n",
    "        if verbose:\n",
    "            print(\"Count of estimators: \" + str(i) + \", accuracy: \" + str(results[i][1]))\n",
    "    return results\n",
    "\n",
    "def get_results_rf(n_est, oob=False, verbose=True, acc=smape_loss_func):\n",
    "    results = dict()\n",
    "    for i in n_est:\n",
    "        reg = RandomForestRegressor(n_estimators=i, n_jobs=-1, random_state=1234, verbose=0,\n",
    "                                    oob_score=oob, max_features='sqrt')\n",
    "        reg.fit(trainX, trainY)\n",
    "        predict = reg.predict(testX)\n",
    "        if oob:\n",
    "            results[i] = (reg.oob_score_, acc(predict, testY))\n",
    "        else:\n",
    "            results[i] = (acc(trainY, reg.predict(trainX)), acc(testY,predict))\n",
    "        if verbose:\n",
    "            print(\"Count of estimators: \" + str(i) + \", accuracy: \" + str(results[i][1]))\n",
    "    return results\n",
    "\n",
    "def get_results_erte(n_est, verbose=True,acc=smape_loss_func):\n",
    "    results = dict()\n",
    "    for i in n_est:\n",
    "        reg = ExtraTreesRegressor(n_estimators=i, n_jobs=-1, random_state=12, verbose=0)\n",
    "        reg.fit(trainX, trainY)\n",
    "        predict = reg.predict(testX)\n",
    "        results[i] = (acc(trainY,reg.predict(trainX)), acc(round_predict(predict), testY))\n",
    "        if verbose:\n",
    "            print(\"Count of estimators: \" + str(i) + \", accuracy: \" + str(results[i][1]))\n",
    "    return results\n",
    "\n",
    "def get_results_gbdt(n_est, verbose=True, init=None, acc=smape_loss_func, min_max_filter=True, max_val=1, min_val=0.001):\n",
    "    results = dict()\n",
    "    for i in n_est:\n",
    "        if init is not None:\n",
    "            reg = GradientBoostingRegressor(n_estimators=i, random_state=1234, verbose=0, init=init)\n",
    "        else:\n",
    "            reg = GradientBoostingRegressor(n_estimators=i, random_state=1234, verbose=0)\n",
    "        reg.fit(trainX, trainY)\n",
    "        predict = reg.predict(testX)\n",
    "        if min_max_filter:\n",
    "            predict = np.minimum(np.maximum(predict, min_val),max_val)\n",
    "        results[i] = (acc(trainY, reg.predict(trainX)), acc(testY, predict))\n",
    "        if verbose:\n",
    "            print(\"Count of estimators: \" + str(i) + \", accuracy: \" + str(results[i][1]))    \n",
    "    return results\n",
    "\n",
    "def get_optimal(results):\n",
    "    results = sorted(results, key=lambda x: x[1])"
   ]
  },
  {
   "cell_type": "markdown",
   "metadata": {},
   "source": [
    "### Делим выборку на обучение и контроль"
   ]
  },
  {
   "cell_type": "code",
   "execution_count": 289,
   "metadata": {
    "collapsed": false
   },
   "outputs": [],
   "source": [
    "trainX, testX, trainY, testY = split_train_test(df = num_data, test_size=0.1,  y_column_name='DEMAND')"
   ]
  },
  {
   "cell_type": "markdown",
   "metadata": {},
   "source": [
    "### DummyRegressor\n",
    "* Самый простой классификатор на числовых признаках используется как база для сравнения"
   ]
  },
  {
   "cell_type": "code",
   "execution_count": 290,
   "metadata": {
    "collapsed": false
   },
   "outputs": [
    {
     "name": "stdout",
     "output_type": "stream",
     "text": [
      "Accuracy: 1.24306344718\n",
      "Wall time: 6 ms\n",
      "Accuracy: 1.81014628129\n",
      "Wall time: 6 ms\n"
     ]
    }
   ],
   "source": [
    "%time results = get_results_dummy_reg()\n",
    "%time results = get_results_dummy_reg(strg='constant', const=0.001)"
   ]
  },
  {
   "cell_type": "markdown",
   "metadata": {},
   "source": [
    "### Bagging and RSM\n",
    "Диапазон для n_est рекомендуется брать небольшим\n",
    "\n",
    "Если трубется изменять дефолтные параметры алгоритма - меняйте код выше"
   ]
  },
  {
   "cell_type": "markdown",
   "metadata": {},
   "source": [
    "** Каким стоит брать размер bootstrap выборки и RSM выборки ** \n",
    "Например: \n",
    "**Bagging:** 0.5 от размера тестовой выборки.\n",
    "\n",
    "**RSM:** 0.5 от размера тестовой выборки."
   ]
  },
  {
   "cell_type": "code",
   "execution_count": 291,
   "metadata": {
    "collapsed": false
   },
   "outputs": [
    {
     "name": "stdout",
     "output_type": "stream",
     "text": [
      "Count of estimators: 10, accuracy: 1.22100959435\n",
      "Count of estimators: 20, accuracy: 1.21464057747\n",
      "Count of estimators: 30, accuracy: 1.21876562442\n",
      "Count of estimators: 40, accuracy: 1.21986437423\n",
      "Count of estimators: 50, accuracy: 1.22145407565\n",
      "Count of estimators: 60, accuracy: 1.22347891479\n",
      "Count of estimators: 70, accuracy: 1.22462831779\n",
      "Count of estimators: 80, accuracy: 1.22489412308\n",
      "Count of estimators: 90, accuracy: 1.22280745976\n",
      "Count of estimators: 100, accuracy: 1.22166409119\n",
      "Count of estimators: 110, accuracy: 1.22188407676\n",
      "Count of estimators: 120, accuracy: 1.22122092478\n",
      "Count of estimators: 130, accuracy: 1.2213443006\n",
      "Count of estimators: 140, accuracy: 1.22175209425\n",
      "Wall time: 3min 37s\n"
     ]
    },
    {
     "data": {
      "image/png": "[encoded data removed]",
      "text/plain": [
       "<matplotlib.figure.Figure at 0x1df49f60>"
      ]
     },
     "metadata": {},
     "output_type": "display_data"
    }
   ],
   "source": [
    "n_est = range(10, 150, 10)\n",
    "%time results = get_results_baggind_rsm(n_est, 0.5, 0.5, verbose=True)\n",
    "show_plot(n_est, results)"
   ]
  },
  {
   "cell_type": "markdown",
   "metadata": {},
   "source": [
    "### Random Forest\n",
    "Диапазон для n_est рекомендуется брать небольшим\n",
    "\n",
    "Если трубется изменять дефолтные параметры алгоритма - меняйте код выше"
   ]
  },
  {
   "cell_type": "code",
   "execution_count": 129,
   "metadata": {
    "collapsed": false
   },
   "outputs": [
    {
     "name": "stdout",
     "output_type": "stream",
     "text": [
      "Count of estimators: 10, accuracy: 1.22135764692\n",
      "Count of estimators: 20, accuracy: 1.22774792977\n",
      "Count of estimators: 30, accuracy: 1.22424763301\n",
      "Count of estimators: 40, accuracy: 1.22253165976\n",
      "Count of estimators: 50, accuracy: 1.22237788476\n",
      "Count of estimators: 60, accuracy: 1.22070273232\n",
      "Count of estimators: 70, accuracy: 1.22296725441\n",
      "Count of estimators: 80, accuracy: 1.22106760638\n",
      "Count of estimators: 90, accuracy: 1.22032673592\n",
      "Count of estimators: 100, accuracy: 1.2203797987\n",
      "Count of estimators: 110, accuracy: 1.2204736192\n",
      "Count of estimators: 120, accuracy: 1.22014865746\n",
      "Count of estimators: 130, accuracy: 1.21972579884\n",
      "Count of estimators: 140, accuracy: 1.21955649699\n",
      "Wall time: 1min 26s\n"
     ]
    },
    {
     "data": {
      "image/png": "[encoded data removed]",
      "text/plain": [
       "<matplotlib.figure.Figure at 0x2379b2b0>"
      ]
     },
     "metadata": {},
     "output_type": "display_data"
    }
   ],
   "source": [
    "n_est = range(10, 150, 10)\n",
    "%time results = get_results_rf(n_est)\n",
    "show_plot(n_est, results)"
   ]
  },
  {
   "cell_type": "markdown",
   "metadata": {},
   "source": [
    "### Extremely Randomized Trees Ensemble\n",
    "Диапазон для n_est рекомендуется брать небольшим\n",
    "\n",
    "Если трубется изменять дефолтные параметры алгоритма - меняйте код выше"
   ]
  },
  {
   "cell_type": "code",
   "execution_count": 140,
   "metadata": {
    "collapsed": false
   },
   "outputs": [
    {
     "name": "stdout",
     "output_type": "stream",
     "text": [
      "Count of estimators: 10, accuracy: 1.98884881864\n",
      "Count of estimators: 20, accuracy: 1.98505176135\n",
      "Count of estimators: 30, accuracy: 1.98620493766\n",
      "Count of estimators: 40, accuracy: 1.98656959935\n",
      "Count of estimators: 50, accuracy: 1.987304438\n",
      "Count of estimators: 60, accuracy: 1.98731209132\n",
      "Count of estimators: 70, accuracy: 1.98723065888\n",
      "Count of estimators: 80, accuracy: 1.98840768639\n",
      "Count of estimators: 90, accuracy: 1.98867925869\n",
      "Count of estimators: 100, accuracy: 1.98781056218\n",
      "Count of estimators: 110, accuracy: 1.9882795225\n",
      "Count of estimators: 120, accuracy: 1.98808843425\n",
      "Count of estimators: 130, accuracy: 1.98799956513\n",
      "Count of estimators: 140, accuracy: 1.98834199663\n",
      "Wall time: 1min 42s\n"
     ]
    },
    {
     "data": {
      "image/png": "[encoded data removed]",
      "text/plain": [
       "<matplotlib.figure.Figure at 0x22716780>"
      ]
     },
     "metadata": {},
     "output_type": "display_data"
    }
   ],
   "source": [
    "n_est = range(10, 150, 10)\n",
    "%time results = get_results_erte(n_est)\n",
    "show_plot(n_est, results)"
   ]
  },
  {
   "cell_type": "markdown",
   "metadata": {},
   "source": [
    "## Gradient Boosted Decision Trees\n",
    "Диапазон для n_est рекомендуется брать небольшим\n",
    "\n",
    "Если трубется изменять дефолтные параметры алгоритма - меняйте код выше"
   ]
  },
  {
   "cell_type": "code",
   "execution_count": 141,
   "metadata": {
    "collapsed": false
   },
   "outputs": [
    {
     "name": "stdout",
     "output_type": "stream",
     "text": [
      "Count of estimators: 10, accuracy: 1.23570798832\n",
      "Count of estimators: 20, accuracy: 1.23008633135\n",
      "Count of estimators: 30, accuracy: 1.22526355815\n",
      "Count of estimators: 40, accuracy: 1.2237483783\n",
      "Count of estimators: 50, accuracy: 1.22494743886\n",
      "Count of estimators: 60, accuracy: 1.22768846258\n",
      "Count of estimators: 70, accuracy: 1.22889354167\n",
      "Count of estimators: 80, accuracy: 1.23091338635\n",
      "Count of estimators: 90, accuracy: 1.23321877478\n",
      "Count of estimators: 100, accuracy: 1.23282568198\n",
      "Count of estimators: 110, accuracy: 1.23564785921\n",
      "Count of estimators: 120, accuracy: 1.23914083316\n",
      "Count of estimators: 130, accuracy: 1.23878062341\n",
      "Count of estimators: 140, accuracy: 1.23967874986\n",
      "Wall time: 27.1 s\n"
     ]
    },
    {
     "data": {
      "image/png": "[encoded data removed]",
      "text/plain": [
       "<matplotlib.figure.Figure at 0x245ad908>"
      ]
     },
     "metadata": {},
     "output_type": "display_data"
    }
   ],
   "source": [
    "n_est = range(10, 150, 10)\n",
    "%time results = get_results_gbdt(n_est)\n",
    "show_plot(n_est, results)"
   ]
  },
  {
   "cell_type": "markdown",
   "metadata": {},
   "source": [
    "### Вывод\n",
    "Переобучаются ExtraDT, остальные методы показывают результаты на одном уровне (в пределах погрешности).\n",
    "\n",
    "Для RF и Baggin+RSM оптимальные значения кол-ва близко к 20.\n",
    "\n",
    "Для GBDT оптимальное количество алгоритмов находится в районе 50."
   ]
  },
  {
   "cell_type": "markdown",
   "metadata": {},
   "source": [
    "**Вопрос: Дайте интепретацию полученным результатам в вашем случае.**\n",
    "\n",
    "Bagging и Boosting дают примерно одинаковые результаты: нужно работать как над уменьшением смещения, так и разброса.\n",
    "Видимо, ..."
   ]
  },
  {
   "cell_type": "markdown",
   "metadata": {},
   "source": [
    "## Использование категориальных признаков (1 балл)\n",
    "* Проведите аналогичный экспермент при наличии категориальных признаков"
   ]
  },
  {
   "cell_type": "markdown",
   "metadata": {},
   "source": [
    "### Обучение и Контроль"
   ]
  },
  {
   "cell_type": "code",
   "execution_count": 155,
   "metadata": {
    "collapsed": false
   },
   "outputs": [
    {
     "data": {
      "text/plain": [
       "Index([u'MODEL_BRAND', u'MODEL_DIAG_TYPE', u'MODEL_NAME', u'MODEL_OS',\n",
       "       u'MODEL_RES_TYPE', u'MODEL_TYPE', u'STORE_BRAND_ABC',\n",
       "       u'STORE_BUILDING_TYPE', u'STORE_CITY', u'STORE_CLUSTER',\n",
       "       u'STORE_DIAG_ABC', u'STORE_FORMAT', u'STORE_OPEN_DTTM',\n",
       "       u'STORE_PRICE_TYPE', u'STORE_REGION', u'STORE_RES_ABC'],\n",
       "      dtype='object')"
      ]
     },
     "execution_count": 155,
     "metadata": {},
     "output_type": "execute_result"
    }
   ],
   "source": [
    "Cathegorical_columns"
   ]
  },
  {
   "cell_type": "code",
   "execution_count": 276,
   "metadata": {
    "collapsed": false
   },
   "outputs": [
    {
     "name": "stdout",
     "output_type": "stream",
     "text": [
      "(40000, 148)\n"
     ]
    }
   ],
   "source": [
    "# Для обучения используются полезные категориальные признаки\n",
    "bin_data = get_binarized_data(data, Cathegorical_columns_use)\n",
    "print(bin_data.shape)"
   ]
  },
  {
   "cell_type": "markdown",
   "metadata": {},
   "source": [
    "##### Исключаем лишние произнаки, заменяем NaN"
   ]
  },
  {
   "cell_type": "code",
   "execution_count": null,
   "metadata": {
    "collapsed": true
   },
   "outputs": [],
   "source": [
    "# Удаляем лишние категоримальные признаки\n",
    "bin_data.drop(Cathegorical_columns[лишние категориальные признаки], axis = 1, inplace=True)"
   ]
  },
  {
   "cell_type": "code",
   "execution_count": null,
   "metadata": {
    "collapsed": true
   },
   "outputs": [],
   "source": [
    "# Удаляем лишние числвые признаки признаки\n",
    "bin_data = bin_data.drop([лишние числовые признаки], axis = 1, inplace = True)\n",
    "\n",
    "# Заменяем NaN\n",
    "bin_data.fillna(значение, inplace = True)"
   ]
  },
  {
   "cell_type": "code",
   "execution_count": 292,
   "metadata": {
    "collapsed": false
   },
   "outputs": [],
   "source": [
    "# Делим выборку на обучение и контроль\n",
    "trainX, testX, trainY, testY = split_train_test(df = bin_data, test_size=0.1,  y_column_name='DEMAND')"
   ]
  },
  {
   "cell_type": "markdown",
   "metadata": {},
   "source": [
    "### Bagging and RSM\n",
    "Диапазон для n_est рекомендуется брать небольшим\n",
    "\n",
    "Если трубется изменять дефолтные параметры алгоритма - меняйте код выше"
   ]
  },
  {
   "cell_type": "code",
   "execution_count": 293,
   "metadata": {
    "collapsed": false
   },
   "outputs": [
    {
     "name": "stdout",
     "output_type": "stream",
     "text": [
      "Count of estimators: 10, accuracy: 1.15699968877\n",
      "Count of estimators: 20, accuracy: 1.18203437582\n",
      "Count of estimators: 30, accuracy: 1.18645092593\n",
      "Count of estimators: 40, accuracy: 1.1896945103\n",
      "Count of estimators: 50, accuracy: 1.19407763041\n",
      "Count of estimators: 60, accuracy: 1.19573702042\n",
      "Count of estimators: 70, accuracy: 1.19544348245\n",
      "Count of estimators: 80, accuracy: 1.19694194811\n",
      "Count of estimators: 90, accuracy: 1.19571517851\n",
      "Count of estimators: 100, accuracy: 1.19695077391\n",
      "Count of estimators: 110, accuracy: 1.19581644326\n",
      "Count of estimators: 120, accuracy: 1.19506062393\n",
      "Count of estimators: 130, accuracy: 1.19445445735\n",
      "Count of estimators: 140, accuracy: 1.19348136202\n",
      "Wall time: 13min 17s\n"
     ]
    },
    {
     "data": {
      "image/png": "[encoded data removed]",
      "text/plain": [
       "<matplotlib.figure.Figure at 0x2379a438>"
      ]
     },
     "metadata": {},
     "output_type": "display_data"
    }
   ],
   "source": [
    "n_est = range(10, 150, 10)\n",
    "%time results = get_results_baggind_rsm(n_est, 0.9, 0.9, verbose=True)\n",
    "show_plot(n_est, results)"
   ]
  },
  {
   "cell_type": "markdown",
   "metadata": {},
   "source": [
    "### Random Forest\n",
    "Диапазон для n_est рекомендуется брать небольшим\n",
    "\n",
    "Если трубется изменять дефолтные параметры алгоритма - меняйте код выше"
   ]
  },
  {
   "cell_type": "code",
   "execution_count": 279,
   "metadata": {
    "collapsed": false
   },
   "outputs": [
    {
     "name": "stdout",
     "output_type": "stream",
     "text": [
      "Count of estimators: 10, accuracy: 1.19862745577\n",
      "Count of estimators: 20, accuracy: 1.19975802945\n",
      "Count of estimators: 30, accuracy: 1.19642767719\n",
      "Count of estimators: 40, accuracy: 1.19905233741\n",
      "Count of estimators: 50, accuracy: 1.19884698082\n",
      "Count of estimators: 60, accuracy: 1.19969109102\n",
      "Count of estimators: 70, accuracy: 1.19842426057\n",
      "Count of estimators: 80, accuracy: 1.19801113168\n",
      "Count of estimators: 90, accuracy: 1.19935679762\n",
      "Count of estimators: 100, accuracy: 1.19754900612\n",
      "Count of estimators: 110, accuracy: 1.19761727374\n",
      "Count of estimators: 120, accuracy: 1.19875166048\n",
      "Count of estimators: 130, accuracy: 1.19970926401\n",
      "Count of estimators: 140, accuracy: 1.19946135197\n",
      "Wall time: 1min 39s\n"
     ]
    },
    {
     "data": {
      "image/png": "[encoded data removed]",
      "text/plain": [
       "<matplotlib.figure.Figure at 0x23c81be0>"
      ]
     },
     "metadata": {},
     "output_type": "display_data"
    }
   ],
   "source": [
    "n_est = range(10, 150, 10)\n",
    "%time results = get_results_rf(n_est)\n",
    "show_plot(n_est, results)"
   ]
  },
  {
   "cell_type": "markdown",
   "metadata": {},
   "source": [
    "### Extremely Randomized Trees Ensemble\n",
    "Диапазон для n_est рекомендуется брать небольшим\n",
    "\n",
    "Если трубется изменять дефолтные параметры алгоритма - меняйте код выше"
   ]
  },
  {
   "cell_type": "code",
   "execution_count": 168,
   "metadata": {
    "collapsed": false
   },
   "outputs": [
    {
     "name": "stdout",
     "output_type": "stream",
     "text": [
      "Count of estimators: 10, accuracy: 1.98787789468\n",
      "Count of estimators: 20, accuracy: 1.98365737576\n",
      "Count of estimators: 30, accuracy: 1.9817152687\n",
      "Count of estimators: 40, accuracy: 1.98163912705\n",
      "Count of estimators: 50, accuracy: 1.98285835431\n",
      "Count of estimators: 60, accuracy: 1.98346790057\n",
      "Count of estimators: 70, accuracy: 1.98412016812\n",
      "Count of estimators: 80, accuracy: 1.98429575357\n",
      "Count of estimators: 90, accuracy: 1.9843401346\n",
      "Count of estimators: 100, accuracy: 1.98458447444\n",
      "Count of estimators: 110, accuracy: 1.98548507553\n",
      "Count of estimators: 120, accuracy: 1.98418310327\n",
      "Count of estimators: 130, accuracy: 1.98383253052\n",
      "Count of estimators: 140, accuracy: 1.98409054326\n",
      "Wall time: 13min 9s\n"
     ]
    },
    {
     "data": {
      "image/png": "[encoded data removed]",
      "text/plain": [
       "<matplotlib.figure.Figure at 0x2458f908>"
      ]
     },
     "metadata": {},
     "output_type": "display_data"
    }
   ],
   "source": [
    "n_est = range(10, 150, 10)\n",
    "%time results = get_results_erte(n_est)\n",
    "show_plot(n_est, results)"
   ]
  },
  {
   "cell_type": "markdown",
   "metadata": {},
   "source": [
    "### Gradient Boosted Decision Trees\n",
    "Диапазон для n_est рекомендуется брать небольшим\n",
    "\n",
    "Если трубется изменять дефолтные параметры алгоритма - меняйте код выше"
   ]
  },
  {
   "cell_type": "code",
   "execution_count": 278,
   "metadata": {
    "collapsed": false
   },
   "outputs": [
    {
     "name": "stdout",
     "output_type": "stream",
     "text": [
      "Count of estimators: 10, accuracy: 1.23257783171\n",
      "Count of estimators: 20, accuracy: 1.2280815379\n",
      "Count of estimators: 30, accuracy: 1.22350560247\n",
      "Count of estimators: 40, accuracy: 1.22092744748\n",
      "Count of estimators: 50, accuracy: 1.21887741019\n",
      "Count of estimators: 60, accuracy: 1.21758012769\n",
      "Count of estimators: 70, accuracy: 1.22035844913\n",
      "Count of estimators: 80, accuracy: 1.21947466007\n",
      "Count of estimators: 90, accuracy: 1.21960799203\n",
      "Count of estimators: 100, accuracy: 1.21961919574\n",
      "Count of estimators: 110, accuracy: 1.21871894449\n",
      "Count of estimators: 120, accuracy: 1.21833941747\n",
      "Count of estimators: 130, accuracy: 1.21784221935\n",
      "Count of estimators: 140, accuracy: 1.21661593315\n",
      "Wall time: 4min 33s\n"
     ]
    },
    {
     "data": {
      "image/png": "[encoded data removed]",
      "text/plain": [
       "<matplotlib.figure.Figure at 0x10e0af60>"
      ]
     },
     "metadata": {},
     "output_type": "display_data"
    }
   ],
   "source": [
    "n_est = range(10, 150, 10)\n",
    "%time results = get_results_gbdt(n_est)\n",
    "show_plot(n_est, results)"
   ]
  },
  {
   "cell_type": "markdown",
   "metadata": {},
   "source": [
    "### Вывод"
   ]
  },
  {
   "cell_type": "markdown",
   "metadata": {},
   "source": [
    "**Вопрос: Дайте интепретацию полученным результатам в вашем случае.**"
   ]
  },
  {
   "cell_type": "markdown",
   "metadata": {},
   "source": [
    "## Другие модели и генерация дополнительных признаков (2 балла)"
   ]
  },
  {
   "cell_type": "markdown",
   "metadata": {},
   "source": [
    "* На основании сделанных выводов, предложите другой вариант алгоритма ML, который должен показать лучший результат\n",
    "* Направляния:\n",
    "    -- использовать принципиально другое семейство алгоритмов (NN, GB+kNN, LinearRegression, композиция Baggin и GBDT)\n",
    "    -- исключить бесполезные фичи из обучающей выборки (полезность фич проанализировать с помощью RF);\n",
    "    -- исключить фичи, в которых есть NaN; сделать восстановление NaN более интеллектуально;\n",
    "    -- преобразовать катеориальные признаки так, чтобы получились числовые."
   ]
  },
  {
   "cell_type": "markdown",
   "metadata": {},
   "source": [
    "### Вывод"
   ]
  },
  {
   "cell_type": "markdown",
   "metadata": {},
   "source": [
    "## Отправка результатов в контест на Kaggle (оценивается по результатам в Leaderboard)"
   ]
  },
  {
   "cell_type": "code",
   "execution_count": 225,
   "metadata": {
    "collapsed": false
   },
   "outputs": [],
   "source": [
    "test = pd.read_csv('./data/test.csv', sep=';',decimal= '.', index_col='ID')"
   ]
  },
  {
   "cell_type": "code",
   "execution_count": 265,
   "metadata": {
    "collapsed": true
   },
   "outputs": [],
   "source": [
    "# Предобработка тестовой выборки (добавляем\\удаляем признаки, предобработка NaN и пр.)\n",
    "test_data = get_binarized_data(test, Cathegorical_columns[категориальные признаки])"
   ]
  },
  {
   "cell_type": "code",
   "execution_count": 266,
   "metadata": {
    "collapsed": false
   },
   "outputs": [],
   "source": [
    "# Все отсутствующие в тестовой выборке столбцы полагаем 0\n",
    "add_columns = bin_data.columns[1:].difference(test_data.columns)\n",
    "test_data = pd.merge(test_data, bin_data.ix[test_data.index][add_columns], how='inner', left_index=True, right_index=True)\n",
    "test_data[add_columns]=0\n",
    "\n",
    "# Оставляем только столбцы обучающей выборки (целевая переменная в обучающей выборке отсутствует)\n",
    "test_data = test_data[bin_data.columns[1:]]\n",
    "\n",
    "test_data = test_data.fillna(-10, inplace=True)"
   ]
  },
  {
   "cell_type": "code",
   "execution_count": null,
   "metadata": {
    "collapsed": true
   },
   "outputs": [],
   "source": [
    "# Обучающая выборка\n",
    "trainX, _, trainY, _ = split_train_test(df = bin_data, test_size=0,  y_column_name='DEMAND')"
   ]
  },
  {
   "cell_type": "code",
   "execution_count": 294,
   "metadata": {
    "collapsed": false
   },
   "outputs": [],
   "source": [
    "# Обучаем финальный алгоритм\n",
    "final_regressor = финальный алгоритм\n",
    "final_regressor.fit(trainX, trainY)"
   ]
  },
  {
   "cell_type": "code",
   "execution_count": 271,
   "metadata": {
    "collapsed": false
   },
   "outputs": [],
   "source": [
    "# Предсказание интенсивности\n",
    "test_predict = final_regressor.predict(np.asarray(test_data))"
   ]
  },
  {
   "cell_type": "code",
   "execution_count": 273,
   "metadata": {
    "collapsed": false
   },
   "outputs": [],
   "source": [
    "# Сохраняем в csv-файл\n",
    "test['DEMAND'] = test_predict\n",
    "test[['DEMAND']].to_csv('./data/submission_gbdt.csv', sep = ',', index = True)"
   ]
  }
 ],
 "metadata": {
  "anaconda-cloud": {},
  "kernelspec": {
   "display_name": "Python [conda root]",
   "language": "python",
   "name": "conda-root-py"
  },
  "language_info": {
   "codemirror_mode": {
    "name": "ipython",
    "version": 2
   },
   "file_extension": ".py",
   "mimetype": "text/x-python",
   "name": "python",
   "nbconvert_exporter": "python",
   "pygments_lexer": "ipython2",
   "version": "2.7.12"
  }
 },
 "nbformat": 4,
 "nbformat_minor": 0
}
